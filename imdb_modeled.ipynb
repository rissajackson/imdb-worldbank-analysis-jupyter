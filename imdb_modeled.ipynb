{
 "cells": [
  {
   "cell_type": "code",
   "execution_count": 1,
   "metadata": {},
   "outputs": [
    {
     "name": "stdout",
     "output_type": "stream",
     "text": [
      "Dataset 'swift-area-266618:imdb_modeled' successfully created.\n"
     ]
    }
   ],
   "source": [
    "!bq --location=US mk --dataset imdb_modeled"
   ]
  },
  {
   "cell_type": "code",
   "execution_count": 27,
   "metadata": {},
   "outputs": [
    {
     "data": {
      "text/html": [
       "<div>\n",
       "<style scoped>\n",
       "    .dataframe tbody tr th:only-of-type {\n",
       "        vertical-align: middle;\n",
       "    }\n",
       "\n",
       "    .dataframe tbody tr th {\n",
       "        vertical-align: top;\n",
       "    }\n",
       "\n",
       "    .dataframe thead th {\n",
       "        text-align: right;\n",
       "    }\n",
       "</style>\n",
       "<table border=\"1\" class=\"dataframe\">\n",
       "  <thead>\n",
       "    <tr style=\"text-align: right;\">\n",
       "      <th></th>\n",
       "    </tr>\n",
       "  </thead>\n",
       "  <tbody>\n",
       "  </tbody>\n",
       "</table>\n",
       "</div>"
      ],
      "text/plain": [
       "Empty DataFrame\n",
       "Columns: []\n",
       "Index: []"
      ]
     },
     "execution_count": 27,
     "metadata": {},
     "output_type": "execute_result"
    }
   ],
   "source": [
    "%%bigquery\n",
    "create table imdb_modeled.Movies as \n",
    "select distinct *\n",
    "from imdb_staging.Movies"
   ]
  },
  {
   "cell_type": "code",
   "execution_count": 28,
   "metadata": {},
   "outputs": [
    {
     "data": {
      "text/html": [
       "<div>\n",
       "<style scoped>\n",
       "    .dataframe tbody tr th:only-of-type {\n",
       "        vertical-align: middle;\n",
       "    }\n",
       "\n",
       "    .dataframe tbody tr th {\n",
       "        vertical-align: top;\n",
       "    }\n",
       "\n",
       "    .dataframe thead th {\n",
       "        text-align: right;\n",
       "    }\n",
       "</style>\n",
       "<table border=\"1\" class=\"dataframe\">\n",
       "  <thead>\n",
       "    <tr style=\"text-align: right;\">\n",
       "      <th></th>\n",
       "    </tr>\n",
       "  </thead>\n",
       "  <tbody>\n",
       "  </tbody>\n",
       "</table>\n",
       "</div>"
      ],
      "text/plain": [
       "Empty DataFrame\n",
       "Columns: []\n",
       "Index: []"
      ]
     },
     "execution_count": 28,
     "metadata": {},
     "output_type": "execute_result"
    }
   ],
   "source": [
    "%%bigquery\n",
    "create table imdb_modeled.Ratings as \n",
    "select distinct *\n",
    "from imdb_staging.Ratings"
   ]
  },
  {
   "cell_type": "code",
   "execution_count": 64,
   "metadata": {},
   "outputs": [
    {
     "data": {
      "text/html": [
       "<div>\n",
       "<style scoped>\n",
       "    .dataframe tbody tr th:only-of-type {\n",
       "        vertical-align: middle;\n",
       "    }\n",
       "\n",
       "    .dataframe tbody tr th {\n",
       "        vertical-align: top;\n",
       "    }\n",
       "\n",
       "    .dataframe thead th {\n",
       "        text-align: right;\n",
       "    }\n",
       "</style>\n",
       "<table border=\"1\" class=\"dataframe\">\n",
       "  <thead>\n",
       "    <tr style=\"text-align: right;\">\n",
       "      <th></th>\n",
       "    </tr>\n",
       "  </thead>\n",
       "  <tbody>\n",
       "  </tbody>\n",
       "</table>\n",
       "</div>"
      ],
      "text/plain": [
       "Empty DataFrame\n",
       "Columns: []\n",
       "Index: []"
      ]
     },
     "execution_count": 64,
     "metadata": {},
     "output_type": "execute_result"
    }
   ],
   "source": [
    "%%bigquery\n",
    "CREATE table imdb_modeled.Actors AS\n",
    "SELECT * EXCEPT(primary_profession, job, ordering, actors, production_company, place_of_death, reason_of_death, imdb_name_id, date_of_death), date_of_death as reason_of_death, generate_uuid() as actor_name_id\n",
    "FROM imdb_staging.Names n INNER JOIN imdb_staging.Title_Principals t USING (imdb_name_id)\n",
    "WHERE t.category = \"actor\""
   ]
  },
  {
   "cell_type": "code",
   "execution_count": 2,
   "metadata": {},
   "outputs": [
    {
     "data": {
      "text/html": [
       "<div>\n",
       "<style scoped>\n",
       "    .dataframe tbody tr th:only-of-type {\n",
       "        vertical-align: middle;\n",
       "    }\n",
       "\n",
       "    .dataframe tbody tr th {\n",
       "        vertical-align: top;\n",
       "    }\n",
       "\n",
       "    .dataframe thead th {\n",
       "        text-align: right;\n",
       "    }\n",
       "</style>\n",
       "<table border=\"1\" class=\"dataframe\">\n",
       "  <thead>\n",
       "    <tr style=\"text-align: right;\">\n",
       "      <th></th>\n",
       "    </tr>\n",
       "  </thead>\n",
       "  <tbody>\n",
       "  </tbody>\n",
       "</table>\n",
       "</div>"
      ],
      "text/plain": [
       "Empty DataFrame\n",
       "Columns: []\n",
       "Index: []"
      ]
     },
     "execution_count": 2,
     "metadata": {},
     "output_type": "execute_result"
    }
   ],
   "source": [
    "%%bigquery\n",
    "CREATE table imdb_modeled.Directors AS\n",
    "SELECT * EXCEPT(primary_profession, job, actors, production_company, ordering, place_of_death, reason_of_death, imdb_name_id, date_of_death), generate_uuid() as director_name_id, date_of_death as reason_of_death\n",
    "FROM imdb_staging.Names n INNER JOIN imdb_staging.Title_Principals t USING (imdb_name_id)\n",
    "WHERE t.category = \"director\""
   ]
  },
  {
   "cell_type": "code",
   "execution_count": 3,
   "metadata": {},
   "outputs": [
    {
     "data": {
      "text/html": [
       "<div>\n",
       "<style scoped>\n",
       "    .dataframe tbody tr th:only-of-type {\n",
       "        vertical-align: middle;\n",
       "    }\n",
       "\n",
       "    .dataframe tbody tr th {\n",
       "        vertical-align: top;\n",
       "    }\n",
       "\n",
       "    .dataframe thead th {\n",
       "        text-align: right;\n",
       "    }\n",
       "</style>\n",
       "<table border=\"1\" class=\"dataframe\">\n",
       "  <thead>\n",
       "    <tr style=\"text-align: right;\">\n",
       "      <th></th>\n",
       "    </tr>\n",
       "  </thead>\n",
       "  <tbody>\n",
       "  </tbody>\n",
       "</table>\n",
       "</div>"
      ],
      "text/plain": [
       "Empty DataFrame\n",
       "Columns: []\n",
       "Index: []"
      ]
     },
     "execution_count": 3,
     "metadata": {},
     "output_type": "execute_result"
    }
   ],
   "source": [
    "%%bigquery\n",
    "CREATE table imdb_modeled.Writers AS\n",
    "SELECT * EXCEPT(primary_profession, job, actors, production_company, ordering, place_of_death, reason_of_death, imdb_name_id, date_of_death), generate_uuid() as writer_name_id, date_of_death as reason_of_death\n",
    "FROM imdb_staging.Names n INNER JOIN imdb_staging.Title_Principals t USING (imdb_name_id)\n",
    "WHERE t.category = \"writer\""
   ]
  },
  {
   "cell_type": "code",
   "execution_count": 9,
   "metadata": {},
   "outputs": [
    {
     "name": "stdout",
     "output_type": "stream",
     "text": [
      "Executing query with job ID: 44c21943-131f-43fb-8728-2033f8e160c6\n",
      "Query executing: 0.21s"
     ]
    },
    {
     "name": "stderr",
     "output_type": "stream",
     "text": [
      "\n",
      "ERROR:\n",
      " 404 Not found: Table swift-area-266618:imdb_modeled.Names was not found in location US\n",
      "\n",
      "(job ID: 44c21943-131f-43fb-8728-2033f8e160c6)\n",
      "\n",
      "            -----Query Job SQL Follows-----             \n",
      "\n",
      "    |    .    |    .    |    .    |    .    |    .    |\n",
      "   1:select cast(date_of_birth as date) as date_of_birth\n",
      "   2:from imdb_modeled.Names\n",
      "    |    .    |    .    |    .    |    .    |    .    |\n"
     ]
    }
   ],
   "source": [
    "%%bigquery\n",
    "select cast(date_of_birth as date) as date_of_birth\n",
    "from imdb_modeled.Names"
   ]
  },
  {
   "cell_type": "code",
   "execution_count": 8,
   "metadata": {},
   "outputs": [
    {
     "name": "stdout",
     "output_type": "stream",
     "text": [
      "Executing query with job ID: 5804af48-7ea8-4051-9a18-c0feff006b78\n",
      "Query executing: 0.27s"
     ]
    },
    {
     "name": "stderr",
     "output_type": "stream",
     "text": [
      "\n",
      "ERROR:\n",
      " 404 Not found: Table swift-area-266618:imdb_modeled.Names was not found in location US\n",
      "\n",
      "(job ID: 5804af48-7ea8-4051-9a18-c0feff006b78)\n",
      "\n",
      "            -----Query Job SQL Follows-----             \n",
      "\n",
      "    |    .    |    .    |    .    |    .    |    .    |\n",
      "   1:select cast(date_of_death as date) as date_of_death\n",
      "   2:from imdb_modeled.Names\n",
      "    |    .    |    .    |    .    |    .    |    .    |\n"
     ]
    }
   ],
   "source": [
    "%%bigquery\n",
    "select cast(date_of_death as date) as date_of_death\n",
    "from imdb_modeled.Actors"
   ]
  },
  {
   "cell_type": "code",
   "execution_count": 7,
   "metadata": {},
   "outputs": [
    {
     "name": "stdout",
     "output_type": "stream",
     "text": [
      "Executing query with job ID: 54c72928-e341-4c90-9603-0a1b4563e0bb\n",
      "Query executing: 0.96s"
     ]
    },
    {
     "name": "stderr",
     "output_type": "stream",
     "text": [
      "\n",
      "ERROR:\n",
      " 400 GET https://bigquery.googleapis.com/bigquery/v2/projects/swift-area-266618/queries/54c72928-e341-4c90-9603-0a1b4563e0bb?location=US&timeoutMs=400&maxResults=0: Bad int64 value: $ 69225\n",
      "\n",
      "(job ID: 54c72928-e341-4c90-9603-0a1b4563e0bb)\n",
      "\n",
      "                -----Query Job SQL Follows-----                \n",
      "\n",
      "    |    .    |    .    |    .    |    .    |    .    |\n",
      "   1:select cast(usa_gross_income as INT64) as usa_gross_income\n",
      "   2:from imdb_modeled.Movies\n",
      "    |    .    |    .    |    .    |    .    |    .    |\n"
     ]
    }
   ],
   "source": [
    "%%bigquery\n",
    "select cast(usa_gross_income as INT64) as usa_gross_income\n",
    "from imdb_modeled.Movies"
   ]
  },
  {
   "cell_type": "code",
   "execution_count": 6,
   "metadata": {},
   "outputs": [
    {
     "name": "stdout",
     "output_type": "stream",
     "text": [
      "Executing query with job ID: 51b09a88-e80d-4701-9ca4-a94fec4f9510\n",
      "Query executing: 0.49s"
     ]
    },
    {
     "name": "stderr",
     "output_type": "stream",
     "text": [
      "\n",
      "ERROR:\n",
      " 400 GET https://bigquery.googleapis.com/bigquery/v2/projects/swift-area-266618/queries/51b09a88-e80d-4701-9ca4-a94fec4f9510?location=US&timeoutMs=0&maxResults=0: Bad int64 value: $ 67522\n",
      "\n",
      "(job ID: 51b09a88-e80d-4701-9ca4-a94fec4f9510)\n",
      "\n",
      "                     -----Query Job SQL Follows-----                     \n",
      "\n",
      "    |    .    |    .    |    .    |    .    |    .    |    .    |\n",
      "   1:select cast(worlwide_gross_income as INT64) as worlwide_gross_income\n",
      "   2:from imdb_modeled.Movies\n",
      "    |    .    |    .    |    .    |    .    |    .    |    .    |\n"
     ]
    }
   ],
   "source": [
    "%%bigquery\n",
    "select cast(worlwide_gross_income as INT64) as worlwide_gross_income\n",
    "from imdb_modeled.Movies"
   ]
  },
  {
   "cell_type": "code",
   "execution_count": 4,
   "metadata": {},
   "outputs": [
    {
     "data": {
      "text/html": [
       "<div>\n",
       "<style scoped>\n",
       "    .dataframe tbody tr th:only-of-type {\n",
       "        vertical-align: middle;\n",
       "    }\n",
       "\n",
       "    .dataframe tbody tr th {\n",
       "        vertical-align: top;\n",
       "    }\n",
       "\n",
       "    .dataframe thead th {\n",
       "        text-align: right;\n",
       "    }\n",
       "</style>\n",
       "<table border=\"1\" class=\"dataframe\">\n",
       "  <thead>\n",
       "    <tr style=\"text-align: right;\">\n",
       "      <th></th>\n",
       "      <th>birth_year</th>\n",
       "    </tr>\n",
       "  </thead>\n",
       "  <tbody>\n",
       "    <tr>\n",
       "      <th>0</th>\n",
       "      <td>NaN</td>\n",
       "    </tr>\n",
       "    <tr>\n",
       "      <th>1</th>\n",
       "      <td>NaN</td>\n",
       "    </tr>\n",
       "    <tr>\n",
       "      <th>2</th>\n",
       "      <td>NaN</td>\n",
       "    </tr>\n",
       "    <tr>\n",
       "      <th>3</th>\n",
       "      <td>NaN</td>\n",
       "    </tr>\n",
       "    <tr>\n",
       "      <th>4</th>\n",
       "      <td>NaN</td>\n",
       "    </tr>\n",
       "    <tr>\n",
       "      <th>...</th>\n",
       "      <td>...</td>\n",
       "    </tr>\n",
       "    <tr>\n",
       "      <th>100490</th>\n",
       "      <td>2006.0</td>\n",
       "    </tr>\n",
       "    <tr>\n",
       "      <th>100491</th>\n",
       "      <td>2006.0</td>\n",
       "    </tr>\n",
       "    <tr>\n",
       "      <th>100492</th>\n",
       "      <td>2007.0</td>\n",
       "    </tr>\n",
       "    <tr>\n",
       "      <th>100493</th>\n",
       "      <td>2007.0</td>\n",
       "    </tr>\n",
       "    <tr>\n",
       "      <th>100494</th>\n",
       "      <td>2008.0</td>\n",
       "    </tr>\n",
       "  </tbody>\n",
       "</table>\n",
       "<p>100495 rows × 1 columns</p>\n",
       "</div>"
      ],
      "text/plain": [
       "        birth_year\n",
       "0              NaN\n",
       "1              NaN\n",
       "2              NaN\n",
       "3              NaN\n",
       "4              NaN\n",
       "...            ...\n",
       "100490      2006.0\n",
       "100491      2006.0\n",
       "100492      2007.0\n",
       "100493      2007.0\n",
       "100494      2008.0\n",
       "\n",
       "[100495 rows x 1 columns]"
      ]
     },
     "execution_count": 4,
     "metadata": {},
     "output_type": "execute_result"
    }
   ],
   "source": [
    "%%bigquery\n",
    "select cast(birth_year as INT64) as birth_year\n",
    "from imdb_modeled.Actors\n",
    "order by birth_year"
   ]
  },
  {
   "cell_type": "code",
   "execution_count": 5,
   "metadata": {},
   "outputs": [
    {
     "data": {
      "text/html": [
       "<div>\n",
       "<style scoped>\n",
       "    .dataframe tbody tr th:only-of-type {\n",
       "        vertical-align: middle;\n",
       "    }\n",
       "\n",
       "    .dataframe tbody tr th {\n",
       "        vertical-align: top;\n",
       "    }\n",
       "\n",
       "    .dataframe thead th {\n",
       "        text-align: right;\n",
       "    }\n",
       "</style>\n",
       "<table border=\"1\" class=\"dataframe\">\n",
       "  <thead>\n",
       "    <tr style=\"text-align: right;\">\n",
       "      <th></th>\n",
       "      <th>death_year</th>\n",
       "    </tr>\n",
       "  </thead>\n",
       "  <tbody>\n",
       "    <tr>\n",
       "      <th>0</th>\n",
       "      <td>NaN</td>\n",
       "    </tr>\n",
       "    <tr>\n",
       "      <th>1</th>\n",
       "      <td>NaN</td>\n",
       "    </tr>\n",
       "    <tr>\n",
       "      <th>2</th>\n",
       "      <td>NaN</td>\n",
       "    </tr>\n",
       "    <tr>\n",
       "      <th>3</th>\n",
       "      <td>NaN</td>\n",
       "    </tr>\n",
       "    <tr>\n",
       "      <th>4</th>\n",
       "      <td>NaN</td>\n",
       "    </tr>\n",
       "    <tr>\n",
       "      <th>...</th>\n",
       "      <td>...</td>\n",
       "    </tr>\n",
       "    <tr>\n",
       "      <th>100490</th>\n",
       "      <td>2019.0</td>\n",
       "    </tr>\n",
       "    <tr>\n",
       "      <th>100491</th>\n",
       "      <td>2019.0</td>\n",
       "    </tr>\n",
       "    <tr>\n",
       "      <th>100492</th>\n",
       "      <td>2019.0</td>\n",
       "    </tr>\n",
       "    <tr>\n",
       "      <th>100493</th>\n",
       "      <td>2019.0</td>\n",
       "    </tr>\n",
       "    <tr>\n",
       "      <th>100494</th>\n",
       "      <td>2019.0</td>\n",
       "    </tr>\n",
       "  </tbody>\n",
       "</table>\n",
       "<p>100495 rows × 1 columns</p>\n",
       "</div>"
      ],
      "text/plain": [
       "        death_year\n",
       "0              NaN\n",
       "1              NaN\n",
       "2              NaN\n",
       "3              NaN\n",
       "4              NaN\n",
       "...            ...\n",
       "100490      2019.0\n",
       "100491      2019.0\n",
       "100492      2019.0\n",
       "100493      2019.0\n",
       "100494      2019.0\n",
       "\n",
       "[100495 rows x 1 columns]"
      ]
     },
     "execution_count": 5,
     "metadata": {},
     "output_type": "execute_result"
    }
   ],
   "source": [
    "%%bigquery\n",
    "select cast(death_year as INT64) as death_year\n",
    "from imdb_modeled.Actors\n",
    "order by death_year"
   ]
  },
  {
   "cell_type": "code",
   "execution_count": 10,
   "metadata": {},
   "outputs": [
    {
     "name": "stdout",
     "output_type": "stream",
     "text": [
      "Executing query with job ID: 06ec3589-9f96-4fea-8f10-c0cc50ea6e87\n",
      "Query executing: 0.51s"
     ]
    },
    {
     "name": "stderr",
     "output_type": "stream",
     "text": [
      "\n",
      "ERROR:\n",
      " 400 GET https://bigquery.googleapis.com/bigquery/v2/projects/swift-area-266618/queries/06ec3589-9f96-4fea-8f10-c0cc50ea6e87?location=US&timeoutMs=400&maxResults=0: Invalid date: '1979'\n",
      "\n",
      "(job ID: 06ec3589-9f96-4fea-8f10-c0cc50ea6e87)\n",
      "\n",
      "             -----Query Job SQL Follows-----              \n",
      "\n",
      "    |    .    |    .    |    .    |    .    |    .    |\n",
      "   1:select cast(date_published as date) as date_published\n",
      "   2:from imdb_modeled.Movies\n",
      "    |    .    |    .    |    .    |    .    |    .    |\n"
     ]
    }
   ],
   "source": [
    "%%bigquery\n",
    "select cast(date_published as date) as date_published\n",
    "from imdb_modeled.Movies"
   ]
  },
  {
   "cell_type": "code",
   "execution_count": 13,
   "metadata": {},
   "outputs": [
    {
     "name": "stdout",
     "output_type": "stream",
     "text": [
      "Executing query with job ID: d509993b-0a99-4b22-868e-f71579f55374\n",
      "Query executing: 0.33s"
     ]
    },
    {
     "name": "stderr",
     "output_type": "stream",
     "text": [
      "\n",
      "ERROR:\n",
      " 400 GET https://bigquery.googleapis.com/bigquery/v2/projects/swift-area-266618/queries/d509993b-0a99-4b22-868e-f71579f55374?location=US&timeoutMs=400&maxResults=0: Bad int64 value: GBP 80000\n",
      "\n",
      "(job ID: d509993b-0a99-4b22-868e-f71579f55374)\n",
      "\n",
      "      -----Query Job SQL Follows-----      \n",
      "\n",
      "    |    .    |    .    |    .    |\n",
      "   1:select cast(budget as INT64) as budget\n",
      "   2:from imdb_modeled.Movies\n",
      "    |    .    |    .    |    .    |\n"
     ]
    }
   ],
   "source": [
    "%%bigquery\n",
    "select cast(budget as INT64) as budget\n",
    "from imdb_modeled.Movies"
   ]
  },
  {
   "cell_type": "markdown",
   "metadata": {},
   "source": []
  },
  {
   "cell_type": "code",
   "execution_count": null,
   "metadata": {},
   "outputs": [],
   "source": []
  }
 ],
 "metadata": {
  "kernelspec": {
   "display_name": "Python 3",
   "language": "python",
   "name": "python3"
  },
  "language_info": {
   "codemirror_mode": {
    "name": "ipython",
    "version": 3
   },
   "file_extension": ".py",
   "mimetype": "text/x-python",
   "name": "python",
   "nbconvert_exporter": "python",
   "pygments_lexer": "ipython3",
   "version": "3.5.3"
  }
 },
 "nbformat": 4,
 "nbformat_minor": 4
}
